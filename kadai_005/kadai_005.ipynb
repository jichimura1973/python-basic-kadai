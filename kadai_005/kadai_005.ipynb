{
  "nbformat": 4,
  "nbformat_minor": 0,
  "metadata": {
    "colab": {
      "provenance": []
    },
    "kernelspec": {
      "name": "python3",
      "display_name": "Python 3"
    },
    "language_info": {
      "name": "python"
    }
  },
  "cells": [
    {
      "cell_type": "code",
      "execution_count": 8,
      "metadata": {
        "colab": {
          "base_uri": "https://localhost:8080/"
        },
        "id": "qRhqfwl0vN5y",
        "outputId": "af4a3165-533e-4bf1-d98d-37eae93df8cc"
      },
      "outputs": [
        {
          "output_type": "stream",
          "name": "stdout",
          "text": [
            "上辺:10cm\n",
            "下辺:20cm\n",
            "高さ:5cm\n",
            "\n",
            "公式：台形の面積　　= (上辺　+下辺)x 高さ　÷ 2\n",
            "75.0cm²\n"
          ]
        }
      ],
      "source": [
        "top_side = 10\n",
        "bottom_side = 20\n",
        "height = 5\n",
        "\n",
        "print(f\"上辺:{top_side}cm\")\n",
        "print(f\"下辺:{bottom_side}cm\")\n",
        "print(f\"高さ:{height}cm\\n\")\n",
        "\n",
        "print(f\"公式：台形の面積　　= (上辺　+下辺)x 高さ　÷ 2\")\n",
        "S = (top_side + bottom_side) * height / 2\n",
        "print(f\"{S}cm²\")"
      ]
    }
  ]
}