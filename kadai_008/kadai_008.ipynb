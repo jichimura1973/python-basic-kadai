{
  "nbformat": 4,
  "nbformat_minor": 0,
  "metadata": {
    "colab": {
      "provenance": []
    },
    "kernelspec": {
      "name": "python3",
      "display_name": "Python 3"
    },
    "language_info": {
      "name": "python"
    }
  },
  "cells": [
    {
      "cell_type": "code",
      "execution_count": 4,
      "metadata": {
        "colab": {
          "base_uri": "https://localhost:8080/"
        },
        "id": "K6dydWZW_JOh",
        "outputId": "e571f318-b6e1-4e1a-a1f9-fc0584ab310a"
      },
      "outputs": [
        {
          "output_type": "stream",
          "name": "stdout",
          "text": [
            "Buzz\n"
          ]
        }
      ],
      "source": [
        "# 変数を設定\n",
        "var = 100\n",
        "\n",
        "# 3と5の倍数のとき\n",
        "if var % 3 == 0 and var % 5 == 0:\n",
        "  print(\"FizzBuss\")\n",
        "# 5の倍数のとき\n",
        "elif var % 5 == 0:\n",
        "  print(\"Buzz\")\n",
        "# 3の倍数のとき\n",
        "elif var % 3 == 0:\n",
        "  print(\"Fizz\")\n",
        "# いずれも該当しないとき\n",
        "else:\n",
        "  print(var)"
      ]
    }
  ]
}