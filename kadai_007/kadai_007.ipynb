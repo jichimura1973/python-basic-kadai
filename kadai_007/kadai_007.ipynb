{
  "nbformat": 4,
  "nbformat_minor": 0,
  "metadata": {
    "colab": {
      "provenance": []
    },
    "kernelspec": {
      "name": "python3",
      "display_name": "Python 3"
    },
    "language_info": {
      "name": "python"
    }
  },
  "cells": [
    {
      "cell_type": "code",
      "execution_count": 4,
      "metadata": {
        "colab": {
          "base_uri": "https://localhost:8080/"
        },
        "id": "gdAtOB0T6Cli",
        "outputId": "13e7d41a-720b-4ad8-a33a-8558ba3ad070"
      },
      "outputs": [
        {
          "output_type": "stream",
          "name": "stdout",
          "text": [
            "array:水曜日は晴れです\n",
            "dictionary:晴れ\n"
          ]
        }
      ],
      "source": [
        "array = [\n",
        "          \"月曜日は晴れです\",\n",
        "          \"火曜日は雨です\",\n",
        "          \"水曜日は晴れです\",\n",
        "          \"木曜日は晴れです\",\n",
        "          \"金曜日は曇りです\",\n",
        "          \"土曜日は曇りのち雨です\",\n",
        "          \"日曜日は雷雨です\"\n",
        "        ]\n",
        "\n",
        "dictionary = {\n",
        "              \"mon\": \"晴れ\",\n",
        "              \"tue\": \"雨\",\n",
        "              \"wed\": \"晴れ\",\n",
        "              \"thu\": \"晴れ\",\n",
        "              \"fri\": \"曇り\",\n",
        "              \"sat\": \"曇りのち雨\",\n",
        "              \"sun\": \"雷雨\"\n",
        "            }\n",
        "\n",
        "print(f\"array:{array[2]}\")\n",
        "print(f\"dictionary:{dictionary['wed']}\")"
      ]
    }
  ]
}