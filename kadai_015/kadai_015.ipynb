{
  "nbformat": 4,
  "nbformat_minor": 0,
  "metadata": {
    "colab": {
      "provenance": []
    },
    "kernelspec": {
      "name": "python3",
      "display_name": "Python 3"
    },
    "language_info": {
      "name": "python"
    }
  },
  "cells": [
    {
      "cell_type": "code",
      "execution_count": 5,
      "metadata": {
        "colab": {
          "base_uri": "https://localhost:8080/"
        },
        "id": "kGxAdbjkhAWh",
        "outputId": "bea40132-7777-4a35-ca77-95342fbd4f8a"
      },
      "outputs": [
        {
          "output_type": "stream",
          "name": "stdout",
          "text": [
            "name:侍太郎 age:36\n"
          ]
        }
      ],
      "source": [
        "# クラスHumanを定義する\n",
        "class Human:\n",
        "  # コンストラクタを定義する\n",
        "  def __init__(self, name, age):\n",
        "    self.name = name\n",
        "    self.age = age\n",
        "  # メソッドを定義する\n",
        "  def printinfo(self):\n",
        "    print(f'name:{self.name} age:{self.age}')\n",
        "\n",
        "# インスタンスを作成\n",
        "human = Human(\"侍太郎\", 36)\n",
        "\n",
        "# name,ageを標準出力する\n",
        "human.printinfo()"
      ]
    }
  ]
}