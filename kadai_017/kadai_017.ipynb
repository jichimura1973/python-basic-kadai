{
  "nbformat": 4,
  "nbformat_minor": 0,
  "metadata": {
    "colab": {
      "provenance": []
    },
    "kernelspec": {
      "name": "python3",
      "display_name": "Python 3"
    },
    "language_info": {
      "name": "python"
    }
  },
  "cells": [
    {
      "cell_type": "code",
      "execution_count": 12,
      "metadata": {
        "colab": {
          "base_uri": "https://localhost:8080/"
        },
        "id": "T5T81NRRqRzL",
        "outputId": "016a309b-6960-4fbb-e941-291d55a856f9"
      },
      "outputs": [
        {
          "output_type": "stream",
          "name": "stdout",
          "text": [
            "侍太郎は大人です\n",
            "侍一郎は大人です\n",
            "侍二郎は大人です\n",
            "侍三郎は大人です\n",
            "侍四郎は大人ではありません\n",
            "侍五郎は大人ではありません\n",
            "侍花子は大人です\n"
          ]
        }
      ],
      "source": [
        "# クラスHumanを定義する\n",
        "class Human:\n",
        "  # コンストラクタを定義する\n",
        "  def __init__(self, name, age):\n",
        "    self.name = name\n",
        "    self.age = age\n",
        "  # メソッドを定義する\n",
        "  def check_adult(self):\n",
        "    if self.age >= 20:\n",
        "      # 大人である\n",
        "      print(f\"{self.name}は大人です\")\n",
        "    else:\n",
        "      # 大人でない\n",
        "      print(f\"{self.name}は大人ではありません\")\n",
        "\n",
        "# Humanクラス用の辞書\n",
        "human_data = {\"侍太郎\": 35,\n",
        "              \"侍一郎\": 30,\n",
        "              \"侍二郎\": 25,\n",
        "              \"侍三郎\": 20,\n",
        "              \"侍四郎\": 15,\n",
        "              \"侍五郎\": 10,\n",
        "              \"侍花子\": 40}\n",
        "\n",
        "# Humanクラス登録用リスト\n",
        "human_list = []\n",
        "\n",
        "# Humanクラス用の辞書から名前と年齢を呼び出してインスタンス化する\n",
        "for key, value in human_data.items():\n",
        "  # インスタンス化\n",
        "  human = Human(key, value)\n",
        "  # リストに追加\n",
        "  human_list.append(human)\n",
        "\n",
        "# human_listの要素数分だけcheck_adultメソッドを実行\n",
        "for human in human_list:\n",
        "  human.check_adult()"
      ]
    }
  ]
}