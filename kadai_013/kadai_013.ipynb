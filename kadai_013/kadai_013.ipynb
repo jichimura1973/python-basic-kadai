{
  "nbformat": 4,
  "nbformat_minor": 0,
  "metadata": {
    "colab": {
      "provenance": []
    },
    "kernelspec": {
      "name": "python3",
      "display_name": "Python 3"
    },
    "language_info": {
      "name": "python"
    }
  },
  "cells": [
    {
      "cell_type": "code",
      "execution_count": 3,
      "metadata": {
        "colab": {
          "base_uri": "https://localhost:8080/"
        },
        "id": "yBIqE958YjJG",
        "outputId": "f2d816e2-5364-4552-d907-96ea449d4822"
      },
      "outputs": [
        {
          "output_type": "execute_result",
          "data": {
            "text/plain": [
              "550.0"
            ]
          },
          "metadata": {},
          "execution_count": 3
        }
      ],
      "source": [
        "# 商品価格:priceと消費税taxを引数として合計金額を返す関数を定義\n",
        "def calculate_total_price(price: int, tax: float) -> float:\n",
        "  return price * (1 + tax/100)\n",
        "\n",
        "# 関数を実行\n",
        "calculate_total_price(500, 10)\n"
      ]
    }
  ]
}